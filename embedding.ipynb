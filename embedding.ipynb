{
 "cells": [
  {
   "cell_type": "code",
   "execution_count": 1,
   "metadata": {},
   "outputs": [],
   "source": [
    "from tensorflow.keras.preprocessing.text import one_hot"
   ]
  },
  {
   "cell_type": "code",
   "execution_count": 2,
   "metadata": {},
   "outputs": [],
   "source": [
    "### sentences\n",
    "sent=[  'the glass of milk',\n",
    "     'the glass of juice',\n",
    "     'the cup of tea',\n",
    "    'I am a good boy',\n",
    "     'I am a good developer',\n",
    "     'understand the meaning of words',\n",
    "     'your videos are good',]"
   ]
  },
  {
   "cell_type": "code",
   "execution_count": 3,
   "metadata": {},
   "outputs": [
    {
     "data": {
      "text/plain": [
       "['the glass of milk',\n",
       " 'the glass of juice',\n",
       " 'the cup of tea',\n",
       " 'I am a good boy',\n",
       " 'I am a good developer',\n",
       " 'understand the meaning of words',\n",
       " 'your videos are good']"
      ]
     },
     "execution_count": 3,
     "metadata": {},
     "output_type": "execute_result"
    }
   ],
   "source": [
    "sent"
   ]
  },
  {
   "cell_type": "code",
   "execution_count": 4,
   "metadata": {},
   "outputs": [],
   "source": [
    "## Define the vocabulary size\n",
    "voc_size=10000"
   ]
  },
  {
   "cell_type": "code",
   "execution_count": 5,
   "metadata": {},
   "outputs": [
    {
     "data": {
      "text/plain": [
       "['the glass of milk',\n",
       " 'the glass of juice',\n",
       " 'the cup of tea',\n",
       " 'I am a good boy',\n",
       " 'I am a good developer',\n",
       " 'understand the meaning of words',\n",
       " 'your videos are good']"
      ]
     },
     "execution_count": 5,
     "metadata": {},
     "output_type": "execute_result"
    }
   ],
   "source": [
    "sent"
   ]
  },
  {
   "cell_type": "code",
   "execution_count": 6,
   "metadata": {},
   "outputs": [
    {
     "data": {
      "text/plain": [
       "[[6461, 7143, 3046, 9285],\n",
       " [6461, 7143, 3046, 7897],\n",
       " [6461, 3613, 3046, 7822],\n",
       " [6099, 4401, 8448, 190, 7082],\n",
       " [6099, 4401, 8448, 190, 3573],\n",
       " [2251, 6461, 2443, 3046, 750],\n",
       " [6404, 967, 3789, 190]]"
      ]
     },
     "execution_count": 6,
     "metadata": {},
     "output_type": "execute_result"
    }
   ],
   "source": [
    "### One Hot Representation\n",
    "one_hot_repr=[one_hot(words,voc_size)for words in sent]\n",
    "one_hot_repr"
   ]
  },
  {
   "cell_type": "code",
   "execution_count": 7,
   "metadata": {},
   "outputs": [],
   "source": [
    "## word Embedding Representation\n",
    "\n",
    "from tensorflow.keras.layers import Embedding\n",
    "#from tensorflow.keras.processing.sequence import pad_sequences\n",
    "from tensorflow.keras.utils import pad_sequences\n",
    "from tensorflow.keras.models import Sequential"
   ]
  },
  {
   "cell_type": "code",
   "execution_count": 8,
   "metadata": {},
   "outputs": [],
   "source": [
    "import numpy as np"
   ]
  },
  {
   "cell_type": "code",
   "execution_count": 9,
   "metadata": {},
   "outputs": [
    {
     "name": "stdout",
     "output_type": "stream",
     "text": [
      "[[   0    0    0    0 6461 7143 3046 9285]\n",
      " [   0    0    0    0 6461 7143 3046 7897]\n",
      " [   0    0    0    0 6461 3613 3046 7822]\n",
      " [   0    0    0 6099 4401 8448  190 7082]\n",
      " [   0    0    0 6099 4401 8448  190 3573]\n",
      " [   0    0    0 2251 6461 2443 3046  750]\n",
      " [   0    0    0    0 6404  967 3789  190]]\n"
     ]
    }
   ],
   "source": [
    "sent_length=8\n",
    "embedded_docs=pad_sequences(one_hot_repr,padding='pre',maxlen=sent_length)\n",
    "print(embedded_docs)"
   ]
  },
  {
   "cell_type": "code",
   "execution_count": 10,
   "metadata": {},
   "outputs": [],
   "source": [
    "## feature representation\n",
    "dim=10"
   ]
  },
  {
   "cell_type": "code",
   "execution_count": 15,
   "metadata": {},
   "outputs": [
    {
     "ename": "ValueError",
     "evalue": "Unrecognized keyword arguments passed to Embedding: {'input_length': 8}",
     "output_type": "error",
     "traceback": [
      "\u001b[0;31m---------------------------------------------------------------------------\u001b[0m",
      "\u001b[0;31mValueError\u001b[0m                                Traceback (most recent call last)",
      "Cell \u001b[0;32mIn[15], line 9\u001b[0m\n\u001b[1;32m      6\u001b[0m sent_length \u001b[38;5;241m=\u001b[39m \u001b[38;5;241m8\u001b[39m  \u001b[38;5;66;03m# Replace with your desired sentence length\u001b[39;00m\n\u001b[1;32m      8\u001b[0m model \u001b[38;5;241m=\u001b[39m Sequential()\n\u001b[0;32m----> 9\u001b[0m model\u001b[38;5;241m.\u001b[39madd(Embedding(input_dim\u001b[38;5;241m=\u001b[39mvoc_size, output_dim\u001b[38;5;241m=\u001b[39mdim, input_length\u001b[38;5;241m=\u001b[39msent_length))\n\u001b[1;32m     10\u001b[0m model\u001b[38;5;241m.\u001b[39mcompile(optimizer\u001b[38;5;241m=\u001b[39m\u001b[38;5;124m'\u001b[39m\u001b[38;5;124madam\u001b[39m\u001b[38;5;124m'\u001b[39m, loss\u001b[38;5;241m=\u001b[39m\u001b[38;5;124m'\u001b[39m\u001b[38;5;124mmse\u001b[39m\u001b[38;5;124m'\u001b[39m)\n",
      "File \u001b[0;32m~/anaconda3/lib/python3.11/site-packages/keras/src/layers/core/embedding.py:81\u001b[0m, in \u001b[0;36mEmbedding.__init__\u001b[0;34m(self, input_dim, output_dim, embeddings_initializer, embeddings_regularizer, embeddings_constraint, mask_zero, lora_rank, **kwargs)\u001b[0m\n\u001b[1;32m     70\u001b[0m \u001b[38;5;28;01mdef\u001b[39;00m \u001b[38;5;21m__init__\u001b[39m(\n\u001b[1;32m     71\u001b[0m     \u001b[38;5;28mself\u001b[39m,\n\u001b[1;32m     72\u001b[0m     input_dim,\n\u001b[0;32m   (...)\u001b[0m\n\u001b[1;32m     79\u001b[0m     \u001b[38;5;241m*\u001b[39m\u001b[38;5;241m*\u001b[39mkwargs,\n\u001b[1;32m     80\u001b[0m ):\n\u001b[0;32m---> 81\u001b[0m     \u001b[38;5;28msuper\u001b[39m()\u001b[38;5;241m.\u001b[39m\u001b[38;5;21m__init__\u001b[39m(\u001b[38;5;241m*\u001b[39m\u001b[38;5;241m*\u001b[39mkwargs)\n\u001b[1;32m     82\u001b[0m     \u001b[38;5;28mself\u001b[39m\u001b[38;5;241m.\u001b[39minput_dim \u001b[38;5;241m=\u001b[39m input_dim\n\u001b[1;32m     83\u001b[0m     \u001b[38;5;28mself\u001b[39m\u001b[38;5;241m.\u001b[39moutput_dim \u001b[38;5;241m=\u001b[39m output_dim\n",
      "File \u001b[0;32m~/anaconda3/lib/python3.11/site-packages/keras/src/layers/layer.py:264\u001b[0m, in \u001b[0;36mLayer.__init__\u001b[0;34m(self, activity_regularizer, trainable, dtype, autocast, name, **kwargs)\u001b[0m\n\u001b[1;32m    262\u001b[0m     \u001b[38;5;28mself\u001b[39m\u001b[38;5;241m.\u001b[39m_input_shape_arg \u001b[38;5;241m=\u001b[39m input_shape_arg\n\u001b[1;32m    263\u001b[0m \u001b[38;5;28;01mif\u001b[39;00m kwargs:\n\u001b[0;32m--> 264\u001b[0m     \u001b[38;5;28;01mraise\u001b[39;00m \u001b[38;5;167;01mValueError\u001b[39;00m(\n\u001b[1;32m    265\u001b[0m         \u001b[38;5;124m\"\u001b[39m\u001b[38;5;124mUnrecognized keyword arguments \u001b[39m\u001b[38;5;124m\"\u001b[39m\n\u001b[1;32m    266\u001b[0m         \u001b[38;5;124mf\u001b[39m\u001b[38;5;124m\"\u001b[39m\u001b[38;5;124mpassed to \u001b[39m\u001b[38;5;132;01m{\u001b[39;00m\u001b[38;5;28mself\u001b[39m\u001b[38;5;241m.\u001b[39m\u001b[38;5;18m__class__\u001b[39m\u001b[38;5;241m.\u001b[39m\u001b[38;5;18m__name__\u001b[39m\u001b[38;5;132;01m}\u001b[39;00m\u001b[38;5;124m: \u001b[39m\u001b[38;5;132;01m{\u001b[39;00mkwargs\u001b[38;5;132;01m}\u001b[39;00m\u001b[38;5;124m\"\u001b[39m\n\u001b[1;32m    267\u001b[0m     )\n\u001b[1;32m    269\u001b[0m \u001b[38;5;28mself\u001b[39m\u001b[38;5;241m.\u001b[39mbuilt \u001b[38;5;241m=\u001b[39m \u001b[38;5;28;01mFalse\u001b[39;00m\n\u001b[1;32m    270\u001b[0m \u001b[38;5;28mself\u001b[39m\u001b[38;5;241m.\u001b[39mautocast \u001b[38;5;241m=\u001b[39m autocast\n",
      "\u001b[0;31mValueError\u001b[0m: Unrecognized keyword arguments passed to Embedding: {'input_length': 8}"
     ]
    }
   ],
   "source": [
    "from keras.models import Sequential\n",
    "from keras.layers import Embedding\n",
    "\n",
    "voc_size = 1000  # Replace with your vocabulary size\n",
    "dim = 50  # Replace with your desired embedding dimension\n",
    "sent_length = 8  # Replace with your desired sentence length\n",
    "\n",
    "model = Sequential()\n",
    "model.add(Embedding(input_dim=voc_size, output_dim=dim, input_length=sent_length))\n",
    "model.compile(optimizer='adam', loss='mse')\n",
    "\n"
   ]
  },
  {
   "cell_type": "code",
   "execution_count": 16,
   "metadata": {},
   "outputs": [
    {
     "data": {
      "text/html": [
       "<pre style=\"white-space:pre;overflow-x:auto;line-height:normal;font-family:Menlo,'DejaVu Sans Mono',consolas,'Courier New',monospace\"><span style=\"font-weight: bold\">Model: \"sequential_3\"</span>\n",
       "</pre>\n"
      ],
      "text/plain": [
       "\u001b[1mModel: \"sequential_3\"\u001b[0m\n"
      ]
     },
     "metadata": {},
     "output_type": "display_data"
    },
    {
     "data": {
      "text/html": [
       "<pre style=\"white-space:pre;overflow-x:auto;line-height:normal;font-family:Menlo,'DejaVu Sans Mono',consolas,'Courier New',monospace\">┏━━━━━━━━━━━━━━━━━━━━━━━━━━━━━━━━━┳━━━━━━━━━━━━━━━━━━━━━━━━┳━━━━━━━━━━━━━━━┓\n",
       "┃<span style=\"font-weight: bold\"> Layer (type)                    </span>┃<span style=\"font-weight: bold\"> Output Shape           </span>┃<span style=\"font-weight: bold\">       Param # </span>┃\n",
       "┡━━━━━━━━━━━━━━━━━━━━━━━━━━━━━━━━━╇━━━━━━━━━━━━━━━━━━━━━━━━╇━━━━━━━━━━━━━━━┩\n",
       "└─────────────────────────────────┴────────────────────────┴───────────────┘\n",
       "</pre>\n"
      ],
      "text/plain": [
       "┏━━━━━━━━━━━━━━━━━━━━━━━━━━━━━━━━━┳━━━━━━━━━━━━━━━━━━━━━━━━┳━━━━━━━━━━━━━━━┓\n",
       "┃\u001b[1m \u001b[0m\u001b[1mLayer (type)                   \u001b[0m\u001b[1m \u001b[0m┃\u001b[1m \u001b[0m\u001b[1mOutput Shape          \u001b[0m\u001b[1m \u001b[0m┃\u001b[1m \u001b[0m\u001b[1m      Param #\u001b[0m\u001b[1m \u001b[0m┃\n",
       "┡━━━━━━━━━━━━━━━━━━━━━━━━━━━━━━━━━╇━━━━━━━━━━━━━━━━━━━━━━━━╇━━━━━━━━━━━━━━━┩\n",
       "└─────────────────────────────────┴────────────────────────┴───────────────┘\n"
      ]
     },
     "metadata": {},
     "output_type": "display_data"
    },
    {
     "data": {
      "text/html": [
       "<pre style=\"white-space:pre;overflow-x:auto;line-height:normal;font-family:Menlo,'DejaVu Sans Mono',consolas,'Courier New',monospace\"><span style=\"font-weight: bold\"> Total params: </span><span style=\"color: #00af00; text-decoration-color: #00af00\">0</span> (0.00 B)\n",
       "</pre>\n"
      ],
      "text/plain": [
       "\u001b[1m Total params: \u001b[0m\u001b[38;5;34m0\u001b[0m (0.00 B)\n"
      ]
     },
     "metadata": {},
     "output_type": "display_data"
    },
    {
     "data": {
      "text/html": [
       "<pre style=\"white-space:pre;overflow-x:auto;line-height:normal;font-family:Menlo,'DejaVu Sans Mono',consolas,'Courier New',monospace\"><span style=\"font-weight: bold\"> Trainable params: </span><span style=\"color: #00af00; text-decoration-color: #00af00\">0</span> (0.00 B)\n",
       "</pre>\n"
      ],
      "text/plain": [
       "\u001b[1m Trainable params: \u001b[0m\u001b[38;5;34m0\u001b[0m (0.00 B)\n"
      ]
     },
     "metadata": {},
     "output_type": "display_data"
    },
    {
     "data": {
      "text/html": [
       "<pre style=\"white-space:pre;overflow-x:auto;line-height:normal;font-family:Menlo,'DejaVu Sans Mono',consolas,'Courier New',monospace\"><span style=\"font-weight: bold\"> Non-trainable params: </span><span style=\"color: #00af00; text-decoration-color: #00af00\">0</span> (0.00 B)\n",
       "</pre>\n"
      ],
      "text/plain": [
       "\u001b[1m Non-trainable params: \u001b[0m\u001b[38;5;34m0\u001b[0m (0.00 B)\n"
      ]
     },
     "metadata": {},
     "output_type": "display_data"
    }
   ],
   "source": [
    "model.summary()"
   ]
  },
  {
   "cell_type": "code",
   "execution_count": 18,
   "metadata": {},
   "outputs": [
    {
     "name": "stdout",
     "output_type": "stream",
     "text": [
      "1/1 [==============================] - 0s 75ms/step\n"
     ]
    },
    {
     "data": {
      "text/plain": [
       "array([[[ 0.01453609,  0.03697893,  0.02267558,  0.01149287,\n",
       "         -0.03695335,  0.01416664,  0.03655917,  0.00734384,\n",
       "          0.03028754,  0.00339943],\n",
       "        [ 0.01453609,  0.03697893,  0.02267558,  0.01149287,\n",
       "         -0.03695335,  0.01416664,  0.03655917,  0.00734384,\n",
       "          0.03028754,  0.00339943],\n",
       "        [ 0.01453609,  0.03697893,  0.02267558,  0.01149287,\n",
       "         -0.03695335,  0.01416664,  0.03655917,  0.00734384,\n",
       "          0.03028754,  0.00339943],\n",
       "        [ 0.01453609,  0.03697893,  0.02267558,  0.01149287,\n",
       "         -0.03695335,  0.01416664,  0.03655917,  0.00734384,\n",
       "          0.03028754,  0.00339943],\n",
       "        [-0.03792738,  0.01958679, -0.04232483, -0.03475742,\n",
       "          0.02182527,  0.01143194, -0.03125288,  0.02584182,\n",
       "          0.0050171 ,  0.04725457],\n",
       "        [-0.02213118,  0.00730393,  0.02797868, -0.02386508,\n",
       "         -0.0024281 ,  0.04419583, -0.02011771, -0.00502002,\n",
       "         -0.03373672, -0.04126013],\n",
       "        [-0.02629154,  0.02487988, -0.02824695,  0.0302802 ,\n",
       "         -0.01835672, -0.00683415,  0.01606056, -0.04426531,\n",
       "         -0.03801771, -0.04581957],\n",
       "        [-0.01679759,  0.04462079,  0.02781102, -0.04639838,\n",
       "          0.0059711 ,  0.00940369, -0.01027383,  0.01697389,\n",
       "         -0.01460341,  0.02758609]],\n",
       "\n",
       "       [[ 0.01453609,  0.03697893,  0.02267558,  0.01149287,\n",
       "         -0.03695335,  0.01416664,  0.03655917,  0.00734384,\n",
       "          0.03028754,  0.00339943],\n",
       "        [ 0.01453609,  0.03697893,  0.02267558,  0.01149287,\n",
       "         -0.03695335,  0.01416664,  0.03655917,  0.00734384,\n",
       "          0.03028754,  0.00339943],\n",
       "        [ 0.01453609,  0.03697893,  0.02267558,  0.01149287,\n",
       "         -0.03695335,  0.01416664,  0.03655917,  0.00734384,\n",
       "          0.03028754,  0.00339943],\n",
       "        [ 0.01453609,  0.03697893,  0.02267558,  0.01149287,\n",
       "         -0.03695335,  0.01416664,  0.03655917,  0.00734384,\n",
       "          0.03028754,  0.00339943],\n",
       "        [-0.03792738,  0.01958679, -0.04232483, -0.03475742,\n",
       "          0.02182527,  0.01143194, -0.03125288,  0.02584182,\n",
       "          0.0050171 ,  0.04725457],\n",
       "        [-0.02213118,  0.00730393,  0.02797868, -0.02386508,\n",
       "         -0.0024281 ,  0.04419583, -0.02011771, -0.00502002,\n",
       "         -0.03373672, -0.04126013],\n",
       "        [-0.02629154,  0.02487988, -0.02824695,  0.0302802 ,\n",
       "         -0.01835672, -0.00683415,  0.01606056, -0.04426531,\n",
       "         -0.03801771, -0.04581957],\n",
       "        [-0.03124818, -0.03880652, -0.01770035, -0.02932168,\n",
       "         -0.03678656, -0.00726188,  0.00991387, -0.02378893,\n",
       "         -0.04152743, -0.01911035]],\n",
       "\n",
       "       [[ 0.01453609,  0.03697893,  0.02267558,  0.01149287,\n",
       "         -0.03695335,  0.01416664,  0.03655917,  0.00734384,\n",
       "          0.03028754,  0.00339943],\n",
       "        [ 0.01453609,  0.03697893,  0.02267558,  0.01149287,\n",
       "         -0.03695335,  0.01416664,  0.03655917,  0.00734384,\n",
       "          0.03028754,  0.00339943],\n",
       "        [ 0.01453609,  0.03697893,  0.02267558,  0.01149287,\n",
       "         -0.03695335,  0.01416664,  0.03655917,  0.00734384,\n",
       "          0.03028754,  0.00339943],\n",
       "        [ 0.01453609,  0.03697893,  0.02267558,  0.01149287,\n",
       "         -0.03695335,  0.01416664,  0.03655917,  0.00734384,\n",
       "          0.03028754,  0.00339943],\n",
       "        [-0.03792738,  0.01958679, -0.04232483, -0.03475742,\n",
       "          0.02182527,  0.01143194, -0.03125288,  0.02584182,\n",
       "          0.0050171 ,  0.04725457],\n",
       "        [ 0.04533714,  0.0136847 ,  0.00179105,  0.0053288 ,\n",
       "          0.00953666, -0.02339783,  0.03319111,  0.00355726,\n",
       "         -0.01003033,  0.00492544],\n",
       "        [-0.02629154,  0.02487988, -0.02824695,  0.0302802 ,\n",
       "         -0.01835672, -0.00683415,  0.01606056, -0.04426531,\n",
       "         -0.03801771, -0.04581957],\n",
       "        [-0.04085422,  0.01385713,  0.02222593,  0.01600582,\n",
       "         -0.01991202,  0.04343553,  0.02790178,  0.02829089,\n",
       "         -0.02677914, -0.03095159]],\n",
       "\n",
       "       [[ 0.01453609,  0.03697893,  0.02267558,  0.01149287,\n",
       "         -0.03695335,  0.01416664,  0.03655917,  0.00734384,\n",
       "          0.03028754,  0.00339943],\n",
       "        [ 0.01453609,  0.03697893,  0.02267558,  0.01149287,\n",
       "         -0.03695335,  0.01416664,  0.03655917,  0.00734384,\n",
       "          0.03028754,  0.00339943],\n",
       "        [ 0.01453609,  0.03697893,  0.02267558,  0.01149287,\n",
       "         -0.03695335,  0.01416664,  0.03655917,  0.00734384,\n",
       "          0.03028754,  0.00339943],\n",
       "        [-0.04146392,  0.02660108, -0.0229491 , -0.03268532,\n",
       "          0.01551236, -0.01654566, -0.02999841,  0.04290983,\n",
       "         -0.02746393, -0.02471615],\n",
       "        [ 0.03273502, -0.03499563,  0.0459383 ,  0.03638815,\n",
       "          0.00481785,  0.02037958,  0.03365681,  0.01753655,\n",
       "         -0.04793417,  0.01674087],\n",
       "        [ 0.00106196, -0.03413208, -0.01256472, -0.02738428,\n",
       "         -0.00181568, -0.01787011, -0.02263788,  0.00925191,\n",
       "         -0.04927097, -0.03621155],\n",
       "        [-0.04554073,  0.03984121, -0.0498728 ,  0.03917092,\n",
       "          0.02678657, -0.04840182, -0.0128305 ,  0.02327908,\n",
       "         -0.00574195,  0.04646111],\n",
       "        [ 0.03840839, -0.03947144, -0.02508885,  0.00115657,\n",
       "         -0.0023639 , -0.00433974,  0.02283755,  0.04989989,\n",
       "          0.02025146, -0.02291037]],\n",
       "\n",
       "       [[ 0.01453609,  0.03697893,  0.02267558,  0.01149287,\n",
       "         -0.03695335,  0.01416664,  0.03655917,  0.00734384,\n",
       "          0.03028754,  0.00339943],\n",
       "        [ 0.01453609,  0.03697893,  0.02267558,  0.01149287,\n",
       "         -0.03695335,  0.01416664,  0.03655917,  0.00734384,\n",
       "          0.03028754,  0.00339943],\n",
       "        [ 0.01453609,  0.03697893,  0.02267558,  0.01149287,\n",
       "         -0.03695335,  0.01416664,  0.03655917,  0.00734384,\n",
       "          0.03028754,  0.00339943],\n",
       "        [-0.04146392,  0.02660108, -0.0229491 , -0.03268532,\n",
       "          0.01551236, -0.01654566, -0.02999841,  0.04290983,\n",
       "         -0.02746393, -0.02471615],\n",
       "        [ 0.03273502, -0.03499563,  0.0459383 ,  0.03638815,\n",
       "          0.00481785,  0.02037958,  0.03365681,  0.01753655,\n",
       "         -0.04793417,  0.01674087],\n",
       "        [ 0.00106196, -0.03413208, -0.01256472, -0.02738428,\n",
       "         -0.00181568, -0.01787011, -0.02263788,  0.00925191,\n",
       "         -0.04927097, -0.03621155],\n",
       "        [-0.04554073,  0.03984121, -0.0498728 ,  0.03917092,\n",
       "          0.02678657, -0.04840182, -0.0128305 ,  0.02327908,\n",
       "         -0.00574195,  0.04646111],\n",
       "        [ 0.04581554,  0.02068042,  0.03083092,  0.02806666,\n",
       "          0.03930313,  0.0191656 ,  0.00675037,  0.02067182,\n",
       "         -0.02875751,  0.02777287]],\n",
       "\n",
       "       [[ 0.01453609,  0.03697893,  0.02267558,  0.01149287,\n",
       "         -0.03695335,  0.01416664,  0.03655917,  0.00734384,\n",
       "          0.03028754,  0.00339943],\n",
       "        [ 0.01453609,  0.03697893,  0.02267558,  0.01149287,\n",
       "         -0.03695335,  0.01416664,  0.03655917,  0.00734384,\n",
       "          0.03028754,  0.00339943],\n",
       "        [ 0.01453609,  0.03697893,  0.02267558,  0.01149287,\n",
       "         -0.03695335,  0.01416664,  0.03655917,  0.00734384,\n",
       "          0.03028754,  0.00339943],\n",
       "        [-0.00300983,  0.04962113, -0.03207076,  0.02294162,\n",
       "          0.01929196, -0.00352075,  0.03440711, -0.00102079,\n",
       "         -0.01592419,  0.02609858],\n",
       "        [-0.03792738,  0.01958679, -0.04232483, -0.03475742,\n",
       "          0.02182527,  0.01143194, -0.03125288,  0.02584182,\n",
       "          0.0050171 ,  0.04725457],\n",
       "        [-0.03927047, -0.03732276, -0.04106323, -0.02769849,\n",
       "          0.04336444, -0.02520424,  0.03605187, -0.0447484 ,\n",
       "         -0.03555883,  0.01143109],\n",
       "        [-0.02629154,  0.02487988, -0.02824695,  0.0302802 ,\n",
       "         -0.01835672, -0.00683415,  0.01606056, -0.04426531,\n",
       "         -0.03801771, -0.04581957],\n",
       "        [ 0.0132685 ,  0.04735686,  0.02811617,  0.02730611,\n",
       "         -0.04152063,  0.01411757,  0.04375606,  0.00623626,\n",
       "          0.04384177, -0.04956309]],\n",
       "\n",
       "       [[ 0.01453609,  0.03697893,  0.02267558,  0.01149287,\n",
       "         -0.03695335,  0.01416664,  0.03655917,  0.00734384,\n",
       "          0.03028754,  0.00339943],\n",
       "        [ 0.01453609,  0.03697893,  0.02267558,  0.01149287,\n",
       "         -0.03695335,  0.01416664,  0.03655917,  0.00734384,\n",
       "          0.03028754,  0.00339943],\n",
       "        [ 0.01453609,  0.03697893,  0.02267558,  0.01149287,\n",
       "         -0.03695335,  0.01416664,  0.03655917,  0.00734384,\n",
       "          0.03028754,  0.00339943],\n",
       "        [ 0.01453609,  0.03697893,  0.02267558,  0.01149287,\n",
       "         -0.03695335,  0.01416664,  0.03655917,  0.00734384,\n",
       "          0.03028754,  0.00339943],\n",
       "        [ 0.02526   ,  0.0156487 ,  0.03218974, -0.00032879,\n",
       "          0.04750899, -0.01754548,  0.0344664 , -0.0309399 ,\n",
       "         -0.00503526, -0.01345843],\n",
       "        [-0.03148643,  0.03196006, -0.03646732,  0.025697  ,\n",
       "         -0.008738  ,  0.02251724, -0.0173725 ,  0.00263242,\n",
       "          0.04673482,  0.03950423],\n",
       "        [ 0.03697998, -0.03435004, -0.03726987,  0.03946258,\n",
       "         -0.04656837,  0.03079089,  0.01652594, -0.04105929,\n",
       "          0.01163935, -0.00696211],\n",
       "        [-0.04554073,  0.03984121, -0.0498728 ,  0.03917092,\n",
       "          0.02678657, -0.04840182, -0.0128305 ,  0.02327908,\n",
       "         -0.00574195,  0.04646111]]], dtype=float32)"
      ]
     },
     "execution_count": 18,
     "metadata": {},
     "output_type": "execute_result"
    }
   ],
   "source": [
    "model.predict(embedded_docs)"
   ]
  },
  {
   "cell_type": "code",
   "execution_count": 19,
   "metadata": {},
   "outputs": [
    {
     "data": {
      "text/plain": [
       "array([   0,    0,    0,    0, 6186, 6775,  637, 4895])"
      ]
     },
     "execution_count": 19,
     "metadata": {},
     "output_type": "execute_result"
    }
   ],
   "source": [
    "embedded_docs[0]"
   ]
  },
  {
   "cell_type": "code",
   "execution_count": 22,
   "metadata": {},
   "outputs": [
    {
     "name": "stdout",
     "output_type": "stream",
     "text": [
      "1/1 [==============================] - 0s 19ms/step\n"
     ]
    },
    {
     "data": {
      "text/plain": [
       "array([[ 0.01453609,  0.03697893,  0.02267558,  0.01149287, -0.03695335,\n",
       "         0.01416664,  0.03655917,  0.00734384,  0.03028754,  0.00339943],\n",
       "       [ 0.01453609,  0.03697893,  0.02267558,  0.01149287, -0.03695335,\n",
       "         0.01416664,  0.03655917,  0.00734384,  0.03028754,  0.00339943],\n",
       "       [ 0.01453609,  0.03697893,  0.02267558,  0.01149287, -0.03695335,\n",
       "         0.01416664,  0.03655917,  0.00734384,  0.03028754,  0.00339943],\n",
       "       [ 0.01453609,  0.03697893,  0.02267558,  0.01149287, -0.03695335,\n",
       "         0.01416664,  0.03655917,  0.00734384,  0.03028754,  0.00339943],\n",
       "       [-0.03792738,  0.01958679, -0.04232483, -0.03475742,  0.02182527,\n",
       "         0.01143194, -0.03125288,  0.02584182,  0.0050171 ,  0.04725457],\n",
       "       [-0.02213118,  0.00730393,  0.02797868, -0.02386508, -0.0024281 ,\n",
       "         0.04419583, -0.02011771, -0.00502002, -0.03373672, -0.04126013],\n",
       "       [-0.02629154,  0.02487988, -0.02824695,  0.0302802 , -0.01835672,\n",
       "        -0.00683415,  0.01606056, -0.04426531, -0.03801771, -0.04581957],\n",
       "       [-0.01679759,  0.04462079,  0.02781102, -0.04639838,  0.0059711 ,\n",
       "         0.00940369, -0.01027383,  0.01697389, -0.01460341,  0.02758609]],\n",
       "      dtype=float32)"
      ]
     },
     "execution_count": 22,
     "metadata": {},
     "output_type": "execute_result"
    }
   ],
   "source": [
    "model.predict(embedded_docs[0])"
   ]
  },
  {
   "cell_type": "code",
   "execution_count": null,
   "metadata": {},
   "outputs": [],
   "source": []
  }
 ],
 "metadata": {
  "kernelspec": {
   "display_name": "Python 3 (ipykernel)",
   "language": "python",
   "name": "python3"
  },
  "language_info": {
   "codemirror_mode": {
    "name": "ipython",
    "version": 3
   },
   "file_extension": ".py",
   "mimetype": "text/x-python",
   "name": "python",
   "nbconvert_exporter": "python",
   "pygments_lexer": "ipython3",
   "version": "3.11.5"
  }
 },
 "nbformat": 4,
 "nbformat_minor": 2
}
